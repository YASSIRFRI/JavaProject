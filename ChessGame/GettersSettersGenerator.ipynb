{
 "cells": [
  {
   "cell_type": "code",
   "execution_count": 4,
   "metadata": {},
   "outputs": [],
   "source": [
    "def getGettersSetters(attr: str): \n",
    "  list = [i.strip() for i in attr.split(\":\")]\n",
    "  name = list[0][1:]\n",
    "  name2 = name[:1].upper() + name[1:]\n",
    "  datatype = list[1]\n",
    "  return f\"+get{name2}(): {datatype}\\n+set{name2}({name}: {datatype}): void\"\n"
   ]
  },
  {
   "cell_type": "code",
   "execution_count": 10,
   "metadata": {},
   "outputs": [
    {
     "name": "stdout",
     "output_type": "stream",
     "text": [
      "+getSource(): BoardSquare\n",
      "+setSource(source: BoardSquare): void\n",
      "+getDestination(): BoardSquare\n",
      "+setDestination(destination: BoardSquare): void\n",
      "+getPiece(): Piece\n",
      "+setPiece(piece: Piece): void\n",
      "+getStatus(): boolean\n",
      "+setStatus(status: boolean): void\n",
      "+getGame(): Game\n",
      "+setGame(game: Game): void\n"
     ]
    }
   ],
   "source": [
    "print(getGettersSetters(\"-source: BoardSquare\"))\n",
    "print(getGettersSetters(\"-destination: BoardSquare\"))\n",
    "print(getGettersSetters(\"-piece: Piece\"))\n",
    "print(getGettersSetters(\"-status : boolean\"))\n",
    "print(getGettersSetters(\"-game: Game\"))\n"
   ]
  }
 ],
 "metadata": {
  "kernelspec": {
   "display_name": "Python 3.10.4 ('ilyascoding')",
   "language": "python",
   "name": "python3"
  },
  "language_info": {
   "codemirror_mode": {
    "name": "ipython",
    "version": 3
   },
   "file_extension": ".py",
   "mimetype": "text/x-python",
   "name": "python",
   "nbconvert_exporter": "python",
   "pygments_lexer": "ipython3",
   "version": "3.10.4"
  },
  "orig_nbformat": 4,
  "vscode": {
   "interpreter": {
    "hash": "1343c7e32fd631675edd076d8c686cb10932540970e5427fa07d1c05abaf1bcf"
   }
  }
 },
 "nbformat": 4,
 "nbformat_minor": 2
}
